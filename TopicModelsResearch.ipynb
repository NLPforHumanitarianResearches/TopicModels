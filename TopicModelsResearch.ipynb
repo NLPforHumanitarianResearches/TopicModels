{
 "cells": [
  {
   "cell_type": "markdown",
   "id": "deaff74c-8b4d-4895-a596-deb8baa36282",
   "metadata": {},
   "source": [
    "# Topic modeling in humanitarian researches"
   ]
  },
  {
   "cell_type": "markdown",
   "id": "b227a25c-28ce-4c1b-acbc-debadc03b99c",
   "metadata": {},
   "source": [
    "## Loading libraries"
   ]
  },
  {
   "cell_type": "code",
   "execution_count": 58,
   "id": "8d0b050b-f7f6-4b55-b653-81752ad83788",
   "metadata": {},
   "outputs": [],
   "source": [
    "import pandas as pd\n",
    "import csv as cs\n",
    "import re\n",
    "import numpy as np\n",
    "import time as tm\n",
    "import os\n",
    "import seaborn as sns\n",
    "import matplotlib.pyplot as plt\n",
    "from natasha import Doc, MorphVocab, Segmenter, NewsEmbedding, NewsMorphTagger\n",
    "from nltk.corpus import stopwords\n",
    "from sklearn.feature_extraction.text import TfidfVectorizer\n",
    "from sklearn.decomposition import LatentDirichletAllocation \n",
    "from sklearn.decomposition import NMF"
   ]
  },
  {
   "cell_type": "markdown",
   "id": "0211c941-8a6a-46c0-aab9-aa75ebfd1561",
   "metadata": {},
   "source": [
    "## Loading the dataset"
   ]
  },
  {
   "cell_type": "code",
   "execution_count": 59,
   "id": "edb9a83a-d85c-41f4-9cca-f6680c977613",
   "metadata": {},
   "outputs": [
    {
     "name": "stdout",
     "output_type": "stream",
     "text": [
      "   id                                            content\n",
      "0   0  Наиболее распространенной классификацией являе...\n",
      "1   1  Сердцем Рима, средоточием его общественной жиз...\n",
      "2   2  Книга была действенным средством распространен...\n",
      "3   3  Глаголица - одна из двух древнейших славянских...\n",
      "4   4  Торговля и хозяйственные дела способствовали р...\n"
     ]
    }
   ],
   "source": [
    "path = ''\n",
    "dframe = pd.read_csv(os.path.join(path, \"dataset.csv\"))\n",
    "print(dframe.head())"
   ]
  },
  {
   "cell_type": "markdown",
   "id": "a69f551e-db91-40dc-ae56-c66919788187",
   "metadata": {},
   "source": [
    "## Building the diagram of the distribution of texts by the number of characters"
   ]
  },
  {
   "cell_type": "code",
   "execution_count": 60,
   "id": "90944c4c-7e90-4113-b38b-18f7364a62a0",
   "metadata": {},
   "outputs": [
    {
     "name": "stderr",
     "output_type": "stream",
     "text": [
      "D:\\anaconda\\Lib\\site-packages\\seaborn\\_oldcore.py:1119: FutureWarning: use_inf_as_na option is deprecated and will be removed in a future version. Convert inf values to NaN before operating instead.\n",
      "  with pd.option_context('mode.use_inf_as_na', True):\n"
     ]
    },
    {
     "data": {
      "image/png": "[encoded data removed]",
      "text/plain": [
       "<Figure size 1000x500 with 1 Axes>"
      ]
     },
     "metadata": {},
     "output_type": "display_data"
    }
   ],
   "source": [
    "fig = plt.figure(figsize=(10, 5))\n",
    "dframe[\"num_characters\"] = dframe[\"content\"].str.len()\n",
    "sns.histplot(data=dframe, x=\"num_characters\")\n",
    "plt.title(\"Number of Characters\")\n",
    "plt.show()"
   ]
  },
  {
   "cell_type": "markdown",
   "id": "3d8e81b0-ac73-4788-a44f-681148ed4816",
   "metadata": {},
   "source": [
    "## Cleaning the dataset"
   ]
  },
  {
   "cell_type": "code",
   "execution_count": 61,
   "id": "8ad409b1-65df-43d7-bbb9-c9be19e3f2a3",
   "metadata": {},
   "outputs": [
    {
     "name": "stdout",
     "output_type": "stream",
     "text": [
      "The number of processed texts: 1345\n"
     ]
    }
   ],
   "source": [
    "def datasetClean(dframe):\n",
    "    dframe.content = dframe.content.apply(lambda x: re.sub(\"\\\\n\", \" \", x))\n",
    "    dframe.content = dframe.content.apply(lambda x: \" \".join(re.findall(r\"[а-яА-Я ёЁ]+\", x)))\n",
    "    clean_text = []\n",
    "    for text in dframe.content: \n",
    "        clean_text.append(text)  \n",
    "    return clean_text\n",
    "texts = datasetClean(dframe) \n",
    "print(f\"The number of processed texts: {len(texts)}\")"
   ]
  },
  {
   "cell_type": "markdown",
   "id": "ba4ddf08-cc51-4f8a-adc5-127de447756d",
   "metadata": {},
   "source": [
    "## Lemmatization of documents "
   ]
  },
  {
   "cell_type": "code",
   "execution_count": 63,
   "id": "0f63bc30-6ae4-4450-9ef9-3ceccca5e565",
   "metadata": {},
   "outputs": [
    {
     "name": "stdout",
     "output_type": "stream",
     "text": [
      "Execution time: 99.71\n"
     ]
    }
   ],
   "source": [
    "start_time = tm.time() \n",
    "segmenter = Segmenter()\n",
    "morph_vocab = MorphVocab()\n",
    "emb = NewsEmbedding()\n",
    "morph_tagger = NewsMorphTagger(emb)\n",
    "\n",
    "def natasha_lemmatize(text):\n",
    "  doc = Doc(text)\n",
    "  doc.segment(segmenter)\n",
    "  doc.tag_morph(morph_tagger)\n",
    "  for token in doc.tokens:\n",
    "    token.lemmatize(morph_vocab)\n",
    "  return {_.text: _.lemma for _ in doc.tokens}\n",
    " \n",
    "lemm_dict = []\n",
    "lemmatize_texts = []\n",
    "for text in texts: \n",
    "    lemm_dict.append(natasha_lemmatize(text))  \n",
    "for x in lemm_dict: \n",
    "    sss = ''\n",
    "    for xxx in list(x.values()):\n",
    "        sss = sss + ' ' + xxx      \n",
    "    lemmatize_texts.append(sss)\n",
    "end_time = tm.time()\n",
    "lemmatize_time = end_time - start_time\n",
    "print(f\"Execution time: {lemmatize_time:.2f}\")"
   ]
  },
  {
   "cell_type": "markdown",
   "id": "3ceed6c6-4afd-41d9-bb65-f1a3e9ea2ad0",
   "metadata": {},
   "source": [
    "## Adding stop-words"
   ]
  },
  {
   "cell_type": "code",
   "execution_count": 64,
   "id": "3784f4a6-5b05-43cf-a121-1d54e709994f",
   "metadata": {},
   "outputs": [],
   "source": [
    "stop_words = stopwords.words('russian')\n",
    "stop_words.extend(['свой','весь','стать','новый','день','часть','час','век','конец','хороший','самый','против','год','это','однако']) \n",
    "stop_words.extend(['который','лишь','место','большой','человек','также','которые','время','очень','для','главный','тысяча','иметь','мочь']) "
   ]
  },
  {
   "cell_type": "markdown",
   "id": "ad80efe6-53da-44d7-bf61-b0e614db3046",
   "metadata": {},
   "source": [
    "## Filtering by selected grammatical categories"
   ]
  },
  {
   "cell_type": "code",
   "execution_count": 69,
   "id": "370ad11b-fc2a-4dc8-96bf-c2ef833d01a6",
   "metadata": {},
   "outputs": [
    {
     "name": "stdout",
     "output_type": "stream",
     "text": [
      "Execution time: 30.75\n"
     ]
    }
   ],
   "source": [
    "def grammaticalCategoriesFilter(categories_filter):\n",
    "    grammatical_categories = []\n",
    "    for lemm in lemmatize_texts:   \n",
    "        words_set = ''\n",
    "        doc = Doc(lemm)  \n",
    "        doc.segment(segmenter)\n",
    "        doc.tag_morph(morph_tagger)\n",
    "        for token in doc.tokens:\n",
    "            if ((token.pos in categories_filter) and (token.text not in stop_words)): \n",
    "                words_set = words_set + ' ' + token.text  \n",
    "        grammatical_categories.append(words_set)      \n",
    "    return grammatical_categories\n",
    "    \n",
    "start_time = tm.time()    \n",
    "corpus = grammaticalCategoriesFilter(['NOUN','ADJ']) \n",
    "end_time = tm.time()\n",
    "grammatical_time = end_time - start_time\n",
    "print(f\"Execution time: {grammatical_time:.2f}\")"
   ]
  },
  {
   "cell_type": "markdown",
   "id": "7ed2e8ef-1b2e-4acc-b087-f3c8e19128dc",
   "metadata": {},
   "source": [
    "## LDA Topic Modeling"
   ]
  },
  {
   "cell_type": "code",
   "execution_count": 70,
   "id": "93cf2f26-5e49-41f5-af29-358f694daeac",
   "metadata": {},
   "outputs": [
    {
     "name": "stdout",
     "output_type": "stream",
     "text": [
      "Тема 1: здание, форма, город, стена, храм, сооружение, архитектура, архитектурный, архитектор\n",
      "Тема 2: земский, азбука, огурец, глаголица, кириллица, кордовский, зарисовка, цифирный, струя\n",
      "Тема 3: констриктор, балдахин, крыса, пьета, генрих, сундук, динценгофер, франциск, сиэтл\n",
      "Тема 4: фарфор, фарфоровый, глазурь, обжиг, гончар, черепок, коричневый, кувшин, майолика\n",
      "Тема 5: бриг, шив, фахверк, термы, вооружение, плотина, фрегат, микенский, строка\n",
      "Тема 6: перфолента, ледяной, оператор, лицей, ленотр, пресс, гостиница, клавиатура, изник\n",
      "Тема 7: сыр, салат, десерт, ложка, торт, помидор, равенна, вкусный, мороженое\n",
      "Тема 8: франкский, связывание, трипольский, мебельный, шествие, тыква, парфянский, гостиница, фильм\n",
      "Тема 9: грот, дивизион, специфический, отрицание, догмат, декарт, готский, поляна, орлов\n",
      "Тема 10: гачный, петля, лапка, скопинский, интернат, кошачий, гак, рифовый, усмирение\n",
      "Тема 11: хеттский, викторианский, беседочный, подъемник, огон, михаэль, спуск, баллиста, гнутье\n",
      "Тема 12: марка, сабля, лотос, хедер, новогодний, императрица, звонница, бумага, самнитский\n",
      "Тема 13: гонец, корреспонденция, пересылка, штемпель, отправление, известие, конверт, курьер, почтальон\n",
      "Тема 14: армия, войско, советский, бой, война, военный, почтовый, немецкий, фронт\n",
      "Тема 15: литера, севильский, базар, апория, соляный, репа, формный, шрифт, бовэ\n",
      "Execution time: 5.92\n"
     ]
    }
   ],
   "source": [
    "start_time = tm.time()\n",
    "vectorizer = TfidfVectorizer(max_features=None) \n",
    "X = vectorizer.fit_transform(corpus)\n",
    "\n",
    "num_topics = 15 \n",
    "lda = LatentDirichletAllocation(n_components=num_topics, random_state=100)\n",
    "lda.fit(X)\n",
    "\n",
    "for topic_idx, topic_words in enumerate(lda.components_):\n",
    "    top_words_idx = topic_words.argsort()[-9:][::-1]\n",
    "    top_words = [vectorizer.get_feature_names_out()[i] for i in top_words_idx]\n",
    "    # print(top_words)\n",
    "    print(f\"Тема {topic_idx + 1}: {', '.join(top_words)}\")\n",
    "end_time = tm.time()\n",
    "LDA_time = end_time - start_time\n",
    "print(f\"Execution time: {LDA_time:.2f}\")"
   ]
  },
  {
   "cell_type": "markdown",
   "id": "6e816c02-afb4-4ea8-ad7e-9b7fbf867034",
   "metadata": {},
   "source": [
    "## NMF Topic Modeling"
   ]
  },
  {
   "cell_type": "code",
   "execution_count": 71,
   "id": "39723e7e-1e23-435a-903a-5cf736a69803",
   "metadata": {},
   "outputs": [
    {
     "name": "stdout",
     "output_type": "stream",
     "text": [
      "Тема 1: проект, архитектор, архитектурный, работа, здание, дом, творческий, архитектура, строительство\n",
      "Тема 2: советский, немецкий, танковый, фронт, армия, войско, дивизия, оборона, удар\n",
      "Тема 3: наука, природа, научный, философский, мир, философия, понятие, закон, идея\n",
      "Тема 4: керамика, изделие, керамический, сосуд, глина, гончарный, фарфор, производство, глазурь\n",
      "Тема 5: педагогический, школа, учебный, образование, заведение, обучение, ребенок, университет, русский\n",
      "Тема 6: храм, древний, стена, римский, пирамида, город, церковь, памятник, сооружение\n",
      "Тема 7: готический, собор, романский, художественный, свод, средневековый, готика, архитектурный, неф\n",
      "Тема 8: войско, армия, война, отряд, сражение, поражение, бой, союзник, римский\n",
      "Тема 9: почтовый, почта, письмо, гонец, доставка, марка, перевозка, услуга, корреспонденция\n",
      "Тема 10: стул, спинка, сидение, кресло, мебель, ножка, форма, стиль, мебельный\n",
      "Тема 11: мачта, парус, судно, парусный, стеньга, корабль, косой, прямой, бушприт\n",
      "Тема 12: сыр, блюдо, напиток, кулинарный, продукт, русский, кухня, рецепт, вкус\n",
      "Тема 13: сад, парк, дворец, замок, фонтан, резиденция, парковый, водоем, аллея\n",
      "Тема 14: фасад, архитектура, этаж, сооружение, здание, купол, окно, архитектурный, ордер\n",
      "Тема 15: башня, мост, метр, высота, стена, строительство, турист, город, сооружение\n",
      "Execution time: 2.94\n"
     ]
    }
   ],
   "source": [
    "start_time = tm.time()\n",
    "vectorizer = TfidfVectorizer(max_features=None) \n",
    "X = vectorizer.fit_transform(corpus)\n",
    "num_topics = 15\n",
    "nmf = NMF(n_components=num_topics, random_state=100)  \n",
    "nmf.fit(X)\n",
    "topic_names = vectorizer.get_feature_names_out()\n",
    "for topic_idx, topic_words in enumerate(nmf.components_):\n",
    "    top_words_idx = topic_words.argsort()[-9:][::-1]\n",
    "    top_words = [topic_names[i] for i in top_words_idx]\n",
    "    print(f\"Тема {topic_idx + 1}: {', '.join(top_words)}\") \n",
    "end_time = tm.time()\n",
    "NMF_time = end_time - start_time\n",
    "print(f\"Execution time: {NMF_time:.2f}\")"
   ]
  },
  {
   "cell_type": "code",
   "execution_count": null,
   "id": "81a7b337-d596-4f90-9a54-fb922982291b",
   "metadata": {},
   "outputs": [],
   "source": []
  }
 ],
 "metadata": {
  "kernelspec": {
   "display_name": "Python 3 (ipykernel)",
   "language": "python",
   "name": "python3"
  },
  "language_info": {
   "codemirror_mode": {
    "name": "ipython",
    "version": 3
   },
   "file_extension": ".py",
   "mimetype": "text/x-python",
   "name": "python",
   "nbconvert_exporter": "python",
   "pygments_lexer": "ipython3",
   "version": "3.11.7"
  }
 },
 "nbformat": 4,
 "nbformat_minor": 5
}
